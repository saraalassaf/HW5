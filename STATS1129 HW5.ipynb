{
 "cells": [
  {
   "cell_type": "code",
   "execution_count": 35,
   "id": "36523e55",
   "metadata": {},
   "outputs": [],
   "source": [
    "class Human:\n",
    "    class_attribute_1_number_of_eyes = 2\n",
    "    class_attribute_2_has_hair = True\n",
    "    class_attribute_3_is_adult = True\n",
    "    class_attribute_4_number_of_ears = 2\n",
    "    def __init__(self, eyecolor, haircolor, height, weight):\n",
    "        self.instance_attribute_1_eyecolor = eyecolor\n",
    "        self.instance_attribute_2_haircolor = haircolor\n",
    "        self.instance_attribute_3_height = height\n",
    "        self.instance_attribute_4_weight = weight\n",
    "    \n",
    "human_instance_A = Human('blue','brown',167,59)\n",
    "human_instance_B = Human('green','blonde',160,68)"
   ]
  },
  {
   "cell_type": "code",
   "execution_count": 37,
   "id": "a12c4106",
   "metadata": {},
   "outputs": [
    {
     "data": {
      "text/plain": [
       "4.242640687119285"
      ]
     },
     "execution_count": 37,
     "metadata": {},
     "output_type": "execute_result"
    }
   ],
   "source": [
    "import math\n",
    "class Point:\n",
    "    def __init__(self,x=0,y=0):\n",
    "        self.x = x\n",
    "        self.y = y\n",
    "    \n",
    "    def distorigin(self):\n",
    "        x = self.x\n",
    "        y = self.y\n",
    "        d = math.sqrt(x**2+y**2)\n",
    "        return d\n",
    "    \n",
    "x1 = Point(3,3)\n",
    "\n",
    "x1.distorigin()"
   ]
  },
  {
   "cell_type": "code",
   "execution_count": null,
   "id": "8192762d",
   "metadata": {},
   "outputs": [],
   "source": []
  }
 ],
 "metadata": {
  "kernelspec": {
   "display_name": "Python 3 (ipykernel)",
   "language": "python",
   "name": "python3"
  },
  "language_info": {
   "codemirror_mode": {
    "name": "ipython",
    "version": 3
   },
   "file_extension": ".py",
   "mimetype": "text/x-python",
   "name": "python",
   "nbconvert_exporter": "python",
   "pygments_lexer": "ipython3",
   "version": "3.9.13"
  }
 },
 "nbformat": 4,
 "nbformat_minor": 5
}
